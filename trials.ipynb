{
 "cells": [
  {
   "cell_type": "code",
   "execution_count": null,
   "id": "3a6226cf",
   "metadata": {},
   "outputs": [
    {
     "name": "stdout",
     "output_type": "stream",
     "text": [
      "1994\n"
     ]
    }
   ],
   "source": [
    "def find_closest_number(nums):\n",
    "    nums = "
   ]
  },
  {
   "cell_type": "code",
   "execution_count": 1,
   "id": "903ba28b",
   "metadata": {},
   "outputs": [
    {
     "name": "stdout",
     "output_type": "stream",
     "text": [
      "['a', 'b', 'c', 1, 2, 3]\n"
     ]
    }
   ],
   "source": [
    "a_list = ['a', 'b', 'c']\n",
    "b_list = [1, 2, 3]\n",
    "new_list = a_list + b_list\n",
    "print(new_list)"
   ]
  },
  {
   "cell_type": "code",
   "execution_count": 1,
   "id": "11704735",
   "metadata": {},
   "outputs": [
    {
     "name": "stdout",
     "output_type": "stream",
     "text": [
      "0\n",
      "1\n",
      "2\n",
      "3\n",
      "4\n"
     ]
    }
   ],
   "source": [
    "for i in range(5):\n",
    "    print(i)"
   ]
  },
  {
   "cell_type": "code",
   "execution_count": 41,
   "id": "f6882182",
   "metadata": {},
   "outputs": [
    {
     "name": "stdout",
     "output_type": "stream",
     "text": [
      "range(0, 5)\n"
     ]
    }
   ],
   "source": [
    "print(range(5))"
   ]
  },
  {
   "cell_type": "code",
   "execution_count": 42,
   "id": "b630889a",
   "metadata": {},
   "outputs": [
    {
     "name": "stdout",
     "output_type": "stream",
     "text": [
      "apple\n",
      "orange\n",
      "grapes\n",
      "pineapple\n"
     ]
    }
   ],
   "source": [
    "fruits = ['apple', 'orange', 'grapes', 'pineapple']\n",
    "\n",
    "for fruit in fruits:\n",
    "    print(fruit)"
   ]
  },
  {
   "cell_type": "code",
   "execution_count": 49,
   "id": "12148f17",
   "metadata": {},
   "outputs": [
    {
     "data": {
      "text/plain": [
       "['apple', 'orange', 'grapes']"
      ]
     },
     "execution_count": 49,
     "metadata": {},
     "output_type": "execute_result"
    }
   ],
   "source": [
    "fruits[:-1]"
   ]
  },
  {
   "cell_type": "code",
   "execution_count": 52,
   "id": "3ae7fc3e",
   "metadata": {},
   "outputs": [
    {
     "name": "stdout",
     "output_type": "stream",
     "text": [
      "[2, 4, 6, 7, 8, 9]\n"
     ]
    }
   ],
   "source": [
    "arr = [2,4,6,7,8,9]\n",
    "print(arr)"
   ]
  },
  {
   "cell_type": "code",
   "execution_count": 57,
   "id": "c8f421bc",
   "metadata": {},
   "outputs": [
    {
     "name": "stdout",
     "output_type": "stream",
     "text": [
      "[3, 4, 6, 7, 8, 9]\n"
     ]
    }
   ],
   "source": [
    "arr[0] = 3\n",
    "print(arr)"
   ]
  },
  {
   "cell_type": "code",
   "execution_count": 58,
   "id": "8bc6284c",
   "metadata": {},
   "outputs": [
    {
     "name": "stdout",
     "output_type": "stream",
     "text": [
      "(1, 2, 3, 4, 6)\n"
     ]
    }
   ],
   "source": [
    "tuple = (1,2,3,4,6)\n",
    "print(tuple)"
   ]
  },
  {
   "cell_type": "code",
   "execution_count": 2,
   "id": "14921ec8",
   "metadata": {},
   "outputs": [
    {
     "name": "stdout",
     "output_type": "stream",
     "text": [
      "[1, 3, 4, 'anoop', 3.14, True]\n"
     ]
    }
   ],
   "source": [
    "list = [1,3,4,\"anoop\",3.14,True]\n",
    "print((list))"
   ]
  },
  {
   "cell_type": "code",
   "execution_count": 3,
   "id": "6895cc27",
   "metadata": {},
   "outputs": [
    {
     "name": "stdout",
     "output_type": "stream",
     "text": [
      "[1, 3, 4, 'anoop', 3.14, True, 'hai']\n"
     ]
    }
   ],
   "source": [
    "list.append(\"hai\")\n",
    "print(list)"
   ]
  },
  {
   "cell_type": "code",
   "execution_count": 4,
   "id": "5121be87",
   "metadata": {},
   "outputs": [
    {
     "name": "stdout",
     "output_type": "stream",
     "text": [
      "[1, 3, 4, 3.14, True, 'hai']\n"
     ]
    }
   ],
   "source": [
    "list.remove(\"anoop\")\n",
    "print(list)"
   ]
  },
  {
   "cell_type": "code",
   "execution_count": 5,
   "id": "640c58a2",
   "metadata": {},
   "outputs": [
    {
     "name": "stdout",
     "output_type": "stream",
     "text": [
      "[4, 3.14, True, 'hai']\n"
     ]
    }
   ],
   "source": [
    "print(list[2:])"
   ]
  },
  {
   "cell_type": "code",
   "execution_count": 8,
   "id": "118c8330",
   "metadata": {},
   "outputs": [
    {
     "name": "stdout",
     "output_type": "stream",
     "text": [
      "0 apple\n",
      "1 orange\n",
      "2 grapes\n",
      "3 kiwi\n"
     ]
    }
   ],
   "source": [
    "fruits = [\"apple\",\"orange\",\"grapes\",\"kiwi\"]\n",
    "\n",
    "for index, fruits in enumerate(fruits):\n",
    "    print(index, fruits)"
   ]
  },
  {
   "cell_type": "code",
   "execution_count": 9,
   "id": "24cd5181",
   "metadata": {},
   "outputs": [
    {
     "name": "stdout",
     "output_type": "stream",
     "text": [
      "[0, 1, 4, 9, 16, 25, 36, 49, 64, 81]\n"
     ]
    }
   ],
   "source": [
    "list = []\n",
    "\n",
    "for i in range(10):\n",
    "    list.append(i**2)\n",
    "print(list)"
   ]
  },
  {
   "cell_type": "code",
   "execution_count": 11,
   "id": "924d0473",
   "metadata": {},
   "outputs": [
    {
     "name": "stdout",
     "output_type": "stream",
     "text": [
      "[1, 2, 3, 4, 5, 1, 2]\n",
      "(1, 2, 3, 4, 5, 1, 2)\n",
      "{1, 2, 3, 4, 5}\n"
     ]
    }
   ],
   "source": [
    "list = [1,2,3,4,5,1,2]\n",
    "tuple = (1,2,3,4,5,1,2)\n",
    "set = {1,2,3,4,5,1,2}\n",
    "\n",
    "print(list)\n",
    "print(tuple)\n",
    "print(set)"
   ]
  },
  {
   "cell_type": "code",
   "execution_count": 18,
   "id": "95cec2c8",
   "metadata": {},
   "outputs": [
    {
     "name": "stdout",
     "output_type": "stream",
     "text": [
      "[1, 2, 3, 4, 5, 1, 2, 7, 7, 7, 7, 7]\n",
      "{1, 2, 3, 4, 5, 7}\n"
     ]
    }
   ],
   "source": [
    "list.append(7)\n",
    "print(list)\n",
    "\n",
    "\n",
    "\n",
    "set.add(7)\n",
    "print(set)"
   ]
  },
  {
   "cell_type": "code",
   "execution_count": 26,
   "id": "be504b8b",
   "metadata": {},
   "outputs": [
    {
     "name": "stdout",
     "output_type": "stream",
     "text": [
      "Largest number: 50\n",
      "Smallest number: 10\n"
     ]
    }
   ],
   "source": [
    "#using Buildin functions\n",
    "\n",
    "numbers = [10,20, 30, 40, 50]\n",
    "\n",
    "largest = max(numbers)\n",
    "smallest = min(numbers)\n",
    "\n",
    "print(\"Largest number:\",largest)\n",
    "print(\"Smallest number:\", smallest)\n",
    "\n",
    "\n"
   ]
  },
  {
   "cell_type": "code",
   "execution_count": 35,
   "id": "6de2c287",
   "metadata": {},
   "outputs": [
    {
     "name": "stdout",
     "output_type": "stream",
     "text": [
      "largest number: 50\n",
      "smallest number: 10\n"
     ]
    }
   ],
   "source": [
    "#without build in functions\n",
    "\n",
    "numbers = [10,20,30,40,50]\n",
    "\n",
    "largest = numbers[0]\n",
    "smallest = numbers[0]\n",
    "\n",
    "for num in numbers:\n",
    "    if num > largest:\n",
    "        largest = num\n",
    "    if num < smallest:\n",
    "        smallest = num\n",
    "\n",
    "print(\"largest number:\", largest)\n",
    "print(\"smallest number:\", smallest)\n"
   ]
  },
  {
   "cell_type": "code",
   "execution_count": 32,
   "id": "7568c223",
   "metadata": {},
   "outputs": [
    {
     "name": "stdout",
     "output_type": "stream",
     "text": [
      "<class 'dict'>\n",
      "<class 'dict'>\n"
     ]
    }
   ],
   "source": [
    "set = {}\n",
    "\n",
    "dict = {}\n",
    "\n",
    "print(type(set))\n",
    "print(type(dict))"
   ]
  },
  {
   "cell_type": "code",
   "execution_count": 40,
   "id": "48881f05",
   "metadata": {},
   "outputs": [
    {
     "name": "stdout",
     "output_type": "stream",
     "text": [
      "2\n",
      "1\n"
     ]
    }
   ],
   "source": [
    "a = 1\n",
    "b = 2\n",
    "\n",
    "a,b = b,a\n",
    "\n",
    "print(a)\n",
    "print(b)"
   ]
  },
  {
   "cell_type": "code",
   "execution_count": 41,
   "id": "680147d6",
   "metadata": {},
   "outputs": [
    {
     "name": "stdout",
     "output_type": "stream",
     "text": [
      "Reversed string: bookmyisthis\n"
     ]
    }
   ],
   "source": [
    "text = \"this is my book\"\n",
    "\n",
    "reversed_text = ''.join(text.split()[::-1])\n",
    "print(\"Reversed string:\",reversed_text)\n"
   ]
  },
  {
   "cell_type": "code",
   "execution_count": 43,
   "id": "24f59a45",
   "metadata": {},
   "outputs": [
    {
     "name": "stdout",
     "output_type": "stream",
     "text": [
      "ataD\n"
     ]
    }
   ],
   "source": [
    "text = \"I am a Data scientist\"\n",
    "\n",
    "print(text.split()[3][::-1])\n"
   ]
  },
  {
   "cell_type": "code",
   "execution_count": null,
   "id": "46f20207",
   "metadata": {},
   "outputs": [
    {
     "name": "stdout",
     "output_type": "stream",
     "text": [
      "[1, 5, 2, 3, 4]\n"
     ]
    }
   ],
   "source": [
    "# Remove duplicate elements from the List\n",
    "\n",
    "\n",
    "nums = [1,5,2,3,4,4,5]\n",
    "\n",
    "def remove_duplicates(nums):\n",
    "    unique_nums = []\n",
    "\n",
    "    for num in nums:\n",
    "        if num not in unique_nums:\n",
    "            unique_nums.append(num)\n",
    "    return unique_nums\n",
    "\n",
    "unique = remove_duplicates(nums)\n",
    "print(unique)\n",
    "\n",
    "# Time complexity : O(n2)"
   ]
  },
  {
   "cell_type": "code",
   "execution_count": null,
   "id": "ce9608cc",
   "metadata": {},
   "outputs": [
    {
     "name": "stdout",
     "output_type": "stream",
     "text": [
      "[1, 5, 2, 3, 4]\n"
     ]
    }
   ],
   "source": [
    "nums = [1,5,2,3,4,4,5]\n",
    "\n",
    "def remove_duplicates(nums):\n",
    "    unique_nums = []\n",
    "    seen = set()\n",
    "    \n",
    "    for num in nums:\n",
    "        if num not in seen:\n",
    "            unique_nums.append(num)\n",
    "            seen.add(num)\n",
    "    return unique_nums\n",
    "\n",
    "\n",
    "unique = remove_duplicates(nums)\n",
    "print(unique)\n",
    "\n",
    "# Time complexity : O(n)"
   ]
  },
  {
   "cell_type": "code",
   "execution_count": 6,
   "id": "7a9bfc44",
   "metadata": {},
   "outputs": [
    {
     "name": "stdout",
     "output_type": "stream",
     "text": [
      "[1, 5, 2, 3, 4]\n"
     ]
    }
   ],
   "source": [
    "nums = [1,5,2,3,4,4,5]\n",
    "\n",
    "def remove_duplicates(nums):\n",
    "    seen = []\n",
    "\n",
    "    for num in nums:\n",
    "        if num not in seen:\n",
    "            seen.append(num)\n",
    "    return seen\n",
    "\n",
    "result = remove_duplicates(nums)\n",
    "print(result)\n",
    "\n"
   ]
  },
  {
   "cell_type": "code",
   "execution_count": null,
   "id": "c2a45854",
   "metadata": {},
   "outputs": [],
   "source": []
  }
 ],
 "metadata": {
  "kernelspec": {
   "display_name": "Python 3",
   "language": "python",
   "name": "python3"
  },
  "language_info": {
   "codemirror_mode": {
    "name": "ipython",
    "version": 3
   },
   "file_extension": ".py",
   "mimetype": "text/x-python",
   "name": "python",
   "nbconvert_exporter": "python",
   "pygments_lexer": "ipython3",
   "version": "3.13.7"
  }
 },
 "nbformat": 4,
 "nbformat_minor": 5
}
